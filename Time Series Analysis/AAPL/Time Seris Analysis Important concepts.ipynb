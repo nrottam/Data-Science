{
 "cells": [
  {
   "cell_type": "code",
   "execution_count": 26,
   "id": "484b7fb4",
   "metadata": {},
   "outputs": [],
   "source": [
    "import pandas as pd\n",
    "import numpy as np\n",
    "import matplotlib.pyplot as plt\n",
    "%matplotlib inline"
   ]
  },
  {
   "cell_type": "code",
   "execution_count": 14,
   "id": "3a6a636a",
   "metadata": {},
   "outputs": [],
   "source": [
    "data = pd.read_csv('AAPL-1.csv',parse_dates=['Date'],index_col='Date' )"
   ]
  },
  {
   "cell_type": "code",
   "execution_count": 42,
   "id": "b6cd55e9",
   "metadata": {},
   "outputs": [
    {
     "data": {
      "text/html": [
       "<div>\n",
       "<style scoped>\n",
       "    .dataframe tbody tr th:only-of-type {\n",
       "        vertical-align: middle;\n",
       "    }\n",
       "\n",
       "    .dataframe tbody tr th {\n",
       "        vertical-align: top;\n",
       "    }\n",
       "\n",
       "    .dataframe thead th {\n",
       "        text-align: right;\n",
       "    }\n",
       "</style>\n",
       "<table border=\"1\" class=\"dataframe\">\n",
       "  <thead>\n",
       "    <tr style=\"text-align: right;\">\n",
       "      <th></th>\n",
       "      <th>Open</th>\n",
       "      <th>High</th>\n",
       "      <th>Low</th>\n",
       "      <th>Close</th>\n",
       "      <th>Adj Close</th>\n",
       "      <th>Volume</th>\n",
       "    </tr>\n",
       "    <tr>\n",
       "      <th>Date</th>\n",
       "      <th></th>\n",
       "      <th></th>\n",
       "      <th></th>\n",
       "      <th></th>\n",
       "      <th></th>\n",
       "      <th></th>\n",
       "    </tr>\n",
       "  </thead>\n",
       "  <tbody>\n",
       "    <tr>\n",
       "      <th>2021-05-19</th>\n",
       "      <td>123.160004</td>\n",
       "      <td>124.919998</td>\n",
       "      <td>122.860001</td>\n",
       "      <td>124.690002</td>\n",
       "      <td>124.690002</td>\n",
       "      <td>92612000</td>\n",
       "    </tr>\n",
       "    <tr>\n",
       "      <th>2021-05-20</th>\n",
       "      <td>125.230003</td>\n",
       "      <td>127.720001</td>\n",
       "      <td>125.099998</td>\n",
       "      <td>127.309998</td>\n",
       "      <td>127.309998</td>\n",
       "      <td>76857100</td>\n",
       "    </tr>\n",
       "    <tr>\n",
       "      <th>2021-05-21</th>\n",
       "      <td>127.820000</td>\n",
       "      <td>128.000000</td>\n",
       "      <td>125.209999</td>\n",
       "      <td>125.430000</td>\n",
       "      <td>125.430000</td>\n",
       "      <td>79209300</td>\n",
       "    </tr>\n",
       "    <tr>\n",
       "      <th>2021-05-24</th>\n",
       "      <td>126.010002</td>\n",
       "      <td>127.940002</td>\n",
       "      <td>125.940002</td>\n",
       "      <td>127.099998</td>\n",
       "      <td>127.099998</td>\n",
       "      <td>62986100</td>\n",
       "    </tr>\n",
       "    <tr>\n",
       "      <th>2021-05-25</th>\n",
       "      <td>127.820000</td>\n",
       "      <td>128.316803</td>\n",
       "      <td>126.610100</td>\n",
       "      <td>126.780098</td>\n",
       "      <td>126.780098</td>\n",
       "      <td>53002236</td>\n",
       "    </tr>\n",
       "  </tbody>\n",
       "</table>\n",
       "</div>"
      ],
      "text/plain": [
       "                  Open        High         Low       Close   Adj Close  \\\n",
       "Date                                                                     \n",
       "2021-05-19  123.160004  124.919998  122.860001  124.690002  124.690002   \n",
       "2021-05-20  125.230003  127.720001  125.099998  127.309998  127.309998   \n",
       "2021-05-21  127.820000  128.000000  125.209999  125.430000  125.430000   \n",
       "2021-05-24  126.010002  127.940002  125.940002  127.099998  127.099998   \n",
       "2021-05-25  127.820000  128.316803  126.610100  126.780098  126.780098   \n",
       "\n",
       "              Volume  \n",
       "Date                  \n",
       "2021-05-19  92612000  \n",
       "2021-05-20  76857100  \n",
       "2021-05-21  79209300  \n",
       "2021-05-24  62986100  \n",
       "2021-05-25  53002236  "
      ]
     },
     "execution_count": 42,
     "metadata": {},
     "output_type": "execute_result"
    }
   ],
   "source": [
    "data.tail()"
   ]
  },
  {
   "cell_type": "code",
   "execution_count": 19,
   "id": "defece58",
   "metadata": {},
   "outputs": [
    {
     "data": {
      "text/plain": [
       "DatetimeIndex(['2020-05-26', '2020-05-27', '2020-05-28', '2020-05-29',\n",
       "               '2020-06-01', '2020-06-02', '2020-06-03', '2020-06-04',\n",
       "               '2020-06-05', '2020-06-08',\n",
       "               ...\n",
       "               '2021-05-12', '2021-05-13', '2021-05-14', '2021-05-17',\n",
       "               '2021-05-18', '2021-05-19', '2021-05-20', '2021-05-21',\n",
       "               '2021-05-24', '2021-05-25'],\n",
       "              dtype='datetime64[ns]', name='Date', length=253, freq=None)"
      ]
     },
     "execution_count": 19,
     "metadata": {},
     "output_type": "execute_result"
    }
   ],
   "source": [
    "data.index"
   ]
  },
  {
   "cell_type": "code",
   "execution_count": 18,
   "id": "54b1010d",
   "metadata": {},
   "outputs": [
    {
     "data": {
      "text/html": [
       "<div>\n",
       "<style scoped>\n",
       "    .dataframe tbody tr th:only-of-type {\n",
       "        vertical-align: middle;\n",
       "    }\n",
       "\n",
       "    .dataframe tbody tr th {\n",
       "        vertical-align: top;\n",
       "    }\n",
       "\n",
       "    .dataframe thead th {\n",
       "        text-align: right;\n",
       "    }\n",
       "</style>\n",
       "<table border=\"1\" class=\"dataframe\">\n",
       "  <thead>\n",
       "    <tr style=\"text-align: right;\">\n",
       "      <th></th>\n",
       "      <th>Open</th>\n",
       "      <th>High</th>\n",
       "      <th>Low</th>\n",
       "      <th>Close</th>\n",
       "      <th>Adj Close</th>\n",
       "      <th>Volume</th>\n",
       "    </tr>\n",
       "    <tr>\n",
       "      <th>Date</th>\n",
       "      <th></th>\n",
       "      <th></th>\n",
       "      <th></th>\n",
       "      <th></th>\n",
       "      <th></th>\n",
       "      <th></th>\n",
       "    </tr>\n",
       "  </thead>\n",
       "  <tbody>\n",
       "    <tr>\n",
       "      <th>2020-11-02</th>\n",
       "      <td>109.110001</td>\n",
       "      <td>110.680000</td>\n",
       "      <td>107.320000</td>\n",
       "      <td>108.769997</td>\n",
       "      <td>108.236809</td>\n",
       "      <td>122866900</td>\n",
       "    </tr>\n",
       "    <tr>\n",
       "      <th>2020-11-03</th>\n",
       "      <td>109.660004</td>\n",
       "      <td>111.489998</td>\n",
       "      <td>108.730003</td>\n",
       "      <td>110.440002</td>\n",
       "      <td>109.898621</td>\n",
       "      <td>107624400</td>\n",
       "    </tr>\n",
       "    <tr>\n",
       "      <th>2020-11-04</th>\n",
       "      <td>114.139999</td>\n",
       "      <td>115.589996</td>\n",
       "      <td>112.349998</td>\n",
       "      <td>114.949997</td>\n",
       "      <td>114.386513</td>\n",
       "      <td>138235500</td>\n",
       "    </tr>\n",
       "    <tr>\n",
       "      <th>2020-11-05</th>\n",
       "      <td>117.949997</td>\n",
       "      <td>119.620003</td>\n",
       "      <td>116.870003</td>\n",
       "      <td>119.029999</td>\n",
       "      <td>118.446510</td>\n",
       "      <td>126387100</td>\n",
       "    </tr>\n",
       "    <tr>\n",
       "      <th>2020-11-06</th>\n",
       "      <td>118.320000</td>\n",
       "      <td>119.199997</td>\n",
       "      <td>116.129997</td>\n",
       "      <td>118.690002</td>\n",
       "      <td>118.311951</td>\n",
       "      <td>114457900</td>\n",
       "    </tr>\n",
       "    <tr>\n",
       "      <th>2020-11-09</th>\n",
       "      <td>120.500000</td>\n",
       "      <td>121.989998</td>\n",
       "      <td>116.050003</td>\n",
       "      <td>116.320000</td>\n",
       "      <td>115.949493</td>\n",
       "      <td>154515300</td>\n",
       "    </tr>\n",
       "    <tr>\n",
       "      <th>2020-11-10</th>\n",
       "      <td>115.550003</td>\n",
       "      <td>117.589996</td>\n",
       "      <td>114.129997</td>\n",
       "      <td>115.970001</td>\n",
       "      <td>115.600609</td>\n",
       "      <td>138023400</td>\n",
       "    </tr>\n",
       "    <tr>\n",
       "      <th>2020-11-11</th>\n",
       "      <td>117.190002</td>\n",
       "      <td>119.629997</td>\n",
       "      <td>116.440002</td>\n",
       "      <td>119.489998</td>\n",
       "      <td>119.109390</td>\n",
       "      <td>112295000</td>\n",
       "    </tr>\n",
       "    <tr>\n",
       "      <th>2020-11-12</th>\n",
       "      <td>119.620003</td>\n",
       "      <td>120.529999</td>\n",
       "      <td>118.570000</td>\n",
       "      <td>119.209999</td>\n",
       "      <td>118.830284</td>\n",
       "      <td>103162300</td>\n",
       "    </tr>\n",
       "    <tr>\n",
       "      <th>2020-11-13</th>\n",
       "      <td>119.440002</td>\n",
       "      <td>119.669998</td>\n",
       "      <td>117.870003</td>\n",
       "      <td>119.260002</td>\n",
       "      <td>118.880127</td>\n",
       "      <td>81581900</td>\n",
       "    </tr>\n",
       "    <tr>\n",
       "      <th>2020-11-16</th>\n",
       "      <td>118.919998</td>\n",
       "      <td>120.989998</td>\n",
       "      <td>118.150002</td>\n",
       "      <td>120.300003</td>\n",
       "      <td>119.916817</td>\n",
       "      <td>91183000</td>\n",
       "    </tr>\n",
       "    <tr>\n",
       "      <th>2020-11-17</th>\n",
       "      <td>119.550003</td>\n",
       "      <td>120.669998</td>\n",
       "      <td>118.959999</td>\n",
       "      <td>119.389999</td>\n",
       "      <td>119.009712</td>\n",
       "      <td>74271000</td>\n",
       "    </tr>\n",
       "    <tr>\n",
       "      <th>2020-11-18</th>\n",
       "      <td>118.610001</td>\n",
       "      <td>119.820000</td>\n",
       "      <td>118.000000</td>\n",
       "      <td>118.029999</td>\n",
       "      <td>117.654045</td>\n",
       "      <td>76322100</td>\n",
       "    </tr>\n",
       "    <tr>\n",
       "      <th>2020-11-19</th>\n",
       "      <td>117.589996</td>\n",
       "      <td>119.059998</td>\n",
       "      <td>116.809998</td>\n",
       "      <td>118.639999</td>\n",
       "      <td>118.262108</td>\n",
       "      <td>74113000</td>\n",
       "    </tr>\n",
       "    <tr>\n",
       "      <th>2020-11-20</th>\n",
       "      <td>118.639999</td>\n",
       "      <td>118.769997</td>\n",
       "      <td>117.290001</td>\n",
       "      <td>117.339996</td>\n",
       "      <td>116.966240</td>\n",
       "      <td>73604300</td>\n",
       "    </tr>\n",
       "    <tr>\n",
       "      <th>2020-11-23</th>\n",
       "      <td>117.180000</td>\n",
       "      <td>117.620003</td>\n",
       "      <td>113.750000</td>\n",
       "      <td>113.849998</td>\n",
       "      <td>113.487358</td>\n",
       "      <td>127959300</td>\n",
       "    </tr>\n",
       "    <tr>\n",
       "      <th>2020-11-24</th>\n",
       "      <td>113.910004</td>\n",
       "      <td>115.849998</td>\n",
       "      <td>112.589996</td>\n",
       "      <td>115.169998</td>\n",
       "      <td>114.803154</td>\n",
       "      <td>113874200</td>\n",
       "    </tr>\n",
       "    <tr>\n",
       "      <th>2020-11-25</th>\n",
       "      <td>115.550003</td>\n",
       "      <td>116.750000</td>\n",
       "      <td>115.169998</td>\n",
       "      <td>116.029999</td>\n",
       "      <td>115.660416</td>\n",
       "      <td>76499200</td>\n",
       "    </tr>\n",
       "    <tr>\n",
       "      <th>2020-11-27</th>\n",
       "      <td>116.570000</td>\n",
       "      <td>117.489998</td>\n",
       "      <td>116.220001</td>\n",
       "      <td>116.589996</td>\n",
       "      <td>116.218628</td>\n",
       "      <td>46691300</td>\n",
       "    </tr>\n",
       "    <tr>\n",
       "      <th>2020-11-30</th>\n",
       "      <td>116.970001</td>\n",
       "      <td>120.970001</td>\n",
       "      <td>116.809998</td>\n",
       "      <td>119.050003</td>\n",
       "      <td>118.670799</td>\n",
       "      <td>169410200</td>\n",
       "    </tr>\n",
       "  </tbody>\n",
       "</table>\n",
       "</div>"
      ],
      "text/plain": [
       "                  Open        High         Low       Close   Adj Close  \\\n",
       "Date                                                                     \n",
       "2020-11-02  109.110001  110.680000  107.320000  108.769997  108.236809   \n",
       "2020-11-03  109.660004  111.489998  108.730003  110.440002  109.898621   \n",
       "2020-11-04  114.139999  115.589996  112.349998  114.949997  114.386513   \n",
       "2020-11-05  117.949997  119.620003  116.870003  119.029999  118.446510   \n",
       "2020-11-06  118.320000  119.199997  116.129997  118.690002  118.311951   \n",
       "2020-11-09  120.500000  121.989998  116.050003  116.320000  115.949493   \n",
       "2020-11-10  115.550003  117.589996  114.129997  115.970001  115.600609   \n",
       "2020-11-11  117.190002  119.629997  116.440002  119.489998  119.109390   \n",
       "2020-11-12  119.620003  120.529999  118.570000  119.209999  118.830284   \n",
       "2020-11-13  119.440002  119.669998  117.870003  119.260002  118.880127   \n",
       "2020-11-16  118.919998  120.989998  118.150002  120.300003  119.916817   \n",
       "2020-11-17  119.550003  120.669998  118.959999  119.389999  119.009712   \n",
       "2020-11-18  118.610001  119.820000  118.000000  118.029999  117.654045   \n",
       "2020-11-19  117.589996  119.059998  116.809998  118.639999  118.262108   \n",
       "2020-11-20  118.639999  118.769997  117.290001  117.339996  116.966240   \n",
       "2020-11-23  117.180000  117.620003  113.750000  113.849998  113.487358   \n",
       "2020-11-24  113.910004  115.849998  112.589996  115.169998  114.803154   \n",
       "2020-11-25  115.550003  116.750000  115.169998  116.029999  115.660416   \n",
       "2020-11-27  116.570000  117.489998  116.220001  116.589996  116.218628   \n",
       "2020-11-30  116.970001  120.970001  116.809998  119.050003  118.670799   \n",
       "\n",
       "               Volume  \n",
       "Date                   \n",
       "2020-11-02  122866900  \n",
       "2020-11-03  107624400  \n",
       "2020-11-04  138235500  \n",
       "2020-11-05  126387100  \n",
       "2020-11-06  114457900  \n",
       "2020-11-09  154515300  \n",
       "2020-11-10  138023400  \n",
       "2020-11-11  112295000  \n",
       "2020-11-12  103162300  \n",
       "2020-11-13   81581900  \n",
       "2020-11-16   91183000  \n",
       "2020-11-17   74271000  \n",
       "2020-11-18   76322100  \n",
       "2020-11-19   74113000  \n",
       "2020-11-20   73604300  \n",
       "2020-11-23  127959300  \n",
       "2020-11-24  113874200  \n",
       "2020-11-25   76499200  \n",
       "2020-11-27   46691300  \n",
       "2020-11-30  169410200  "
      ]
     },
     "execution_count": 18,
     "metadata": {},
     "output_type": "execute_result"
    }
   ],
   "source": [
    "data.loc[\"2020-11\"]"
   ]
  },
  {
   "cell_type": "code",
   "execution_count": 23,
   "id": "fab85aa4",
   "metadata": {},
   "outputs": [
    {
     "data": {
      "text/html": [
       "<div>\n",
       "<style scoped>\n",
       "    .dataframe tbody tr th:only-of-type {\n",
       "        vertical-align: middle;\n",
       "    }\n",
       "\n",
       "    .dataframe tbody tr th {\n",
       "        vertical-align: top;\n",
       "    }\n",
       "\n",
       "    .dataframe thead th {\n",
       "        text-align: right;\n",
       "    }\n",
       "</style>\n",
       "<table border=\"1\" class=\"dataframe\">\n",
       "  <thead>\n",
       "    <tr style=\"text-align: right;\">\n",
       "      <th></th>\n",
       "      <th>Open</th>\n",
       "      <th>High</th>\n",
       "      <th>Low</th>\n",
       "      <th>Close</th>\n",
       "      <th>Adj Close</th>\n",
       "      <th>Volume</th>\n",
       "    </tr>\n",
       "    <tr>\n",
       "      <th>Date</th>\n",
       "      <th></th>\n",
       "      <th></th>\n",
       "      <th></th>\n",
       "      <th></th>\n",
       "      <th></th>\n",
       "      <th></th>\n",
       "    </tr>\n",
       "  </thead>\n",
       "  <tbody>\n",
       "    <tr>\n",
       "      <th>2021-04-12</th>\n",
       "      <td>132.520004</td>\n",
       "      <td>132.850006</td>\n",
       "      <td>130.630005</td>\n",
       "      <td>131.240005</td>\n",
       "      <td>131.017456</td>\n",
       "      <td>91420000</td>\n",
       "    </tr>\n",
       "    <tr>\n",
       "      <th>2021-04-13</th>\n",
       "      <td>132.440002</td>\n",
       "      <td>134.660004</td>\n",
       "      <td>131.929993</td>\n",
       "      <td>134.429993</td>\n",
       "      <td>134.202042</td>\n",
       "      <td>91266500</td>\n",
       "    </tr>\n",
       "    <tr>\n",
       "      <th>2021-04-14</th>\n",
       "      <td>134.940002</td>\n",
       "      <td>135.000000</td>\n",
       "      <td>131.660004</td>\n",
       "      <td>132.029999</td>\n",
       "      <td>131.806122</td>\n",
       "      <td>87222800</td>\n",
       "    </tr>\n",
       "    <tr>\n",
       "      <th>2021-04-15</th>\n",
       "      <td>133.820007</td>\n",
       "      <td>135.000000</td>\n",
       "      <td>133.639999</td>\n",
       "      <td>134.500000</td>\n",
       "      <td>134.271927</td>\n",
       "      <td>89347100</td>\n",
       "    </tr>\n",
       "    <tr>\n",
       "      <th>2021-04-16</th>\n",
       "      <td>134.300003</td>\n",
       "      <td>134.669998</td>\n",
       "      <td>133.279999</td>\n",
       "      <td>134.160004</td>\n",
       "      <td>133.932510</td>\n",
       "      <td>84922400</td>\n",
       "    </tr>\n",
       "    <tr>\n",
       "      <th>2021-04-19</th>\n",
       "      <td>133.509995</td>\n",
       "      <td>135.470001</td>\n",
       "      <td>133.339996</td>\n",
       "      <td>134.839996</td>\n",
       "      <td>134.611343</td>\n",
       "      <td>94264200</td>\n",
       "    </tr>\n",
       "    <tr>\n",
       "      <th>2021-04-20</th>\n",
       "      <td>135.020004</td>\n",
       "      <td>135.529999</td>\n",
       "      <td>131.809998</td>\n",
       "      <td>133.110001</td>\n",
       "      <td>132.884293</td>\n",
       "      <td>94812300</td>\n",
       "    </tr>\n",
       "    <tr>\n",
       "      <th>2021-04-21</th>\n",
       "      <td>132.360001</td>\n",
       "      <td>133.750000</td>\n",
       "      <td>131.300003</td>\n",
       "      <td>133.500000</td>\n",
       "      <td>133.273621</td>\n",
       "      <td>68847100</td>\n",
       "    </tr>\n",
       "    <tr>\n",
       "      <th>2021-04-22</th>\n",
       "      <td>133.039993</td>\n",
       "      <td>134.149994</td>\n",
       "      <td>131.410004</td>\n",
       "      <td>131.940002</td>\n",
       "      <td>131.716278</td>\n",
       "      <td>84566500</td>\n",
       "    </tr>\n",
       "    <tr>\n",
       "      <th>2021-04-23</th>\n",
       "      <td>132.160004</td>\n",
       "      <td>135.119995</td>\n",
       "      <td>132.160004</td>\n",
       "      <td>134.320007</td>\n",
       "      <td>134.092239</td>\n",
       "      <td>78657500</td>\n",
       "    </tr>\n",
       "    <tr>\n",
       "      <th>2021-04-26</th>\n",
       "      <td>134.830002</td>\n",
       "      <td>135.059998</td>\n",
       "      <td>133.559998</td>\n",
       "      <td>134.720001</td>\n",
       "      <td>134.491562</td>\n",
       "      <td>66905100</td>\n",
       "    </tr>\n",
       "    <tr>\n",
       "      <th>2021-04-27</th>\n",
       "      <td>135.009995</td>\n",
       "      <td>135.410004</td>\n",
       "      <td>134.110001</td>\n",
       "      <td>134.389999</td>\n",
       "      <td>134.162109</td>\n",
       "      <td>66015800</td>\n",
       "    </tr>\n",
       "    <tr>\n",
       "      <th>2021-04-28</th>\n",
       "      <td>134.309998</td>\n",
       "      <td>135.020004</td>\n",
       "      <td>133.080002</td>\n",
       "      <td>133.580002</td>\n",
       "      <td>133.353485</td>\n",
       "      <td>107760100</td>\n",
       "    </tr>\n",
       "    <tr>\n",
       "      <th>2021-04-29</th>\n",
       "      <td>136.470001</td>\n",
       "      <td>137.070007</td>\n",
       "      <td>132.449997</td>\n",
       "      <td>133.479996</td>\n",
       "      <td>133.253662</td>\n",
       "      <td>151101000</td>\n",
       "    </tr>\n",
       "    <tr>\n",
       "      <th>2021-04-30</th>\n",
       "      <td>131.779999</td>\n",
       "      <td>133.559998</td>\n",
       "      <td>131.070007</td>\n",
       "      <td>131.460007</td>\n",
       "      <td>131.237091</td>\n",
       "      <td>109713200</td>\n",
       "    </tr>\n",
       "    <tr>\n",
       "      <th>2021-05-03</th>\n",
       "      <td>132.039993</td>\n",
       "      <td>134.070007</td>\n",
       "      <td>131.830002</td>\n",
       "      <td>132.539993</td>\n",
       "      <td>132.315247</td>\n",
       "      <td>75135100</td>\n",
       "    </tr>\n",
       "    <tr>\n",
       "      <th>2021-05-04</th>\n",
       "      <td>131.190002</td>\n",
       "      <td>131.490005</td>\n",
       "      <td>126.699997</td>\n",
       "      <td>127.849998</td>\n",
       "      <td>127.633202</td>\n",
       "      <td>137564700</td>\n",
       "    </tr>\n",
       "    <tr>\n",
       "      <th>2021-05-05</th>\n",
       "      <td>129.199997</td>\n",
       "      <td>130.449997</td>\n",
       "      <td>127.970001</td>\n",
       "      <td>128.100006</td>\n",
       "      <td>127.882790</td>\n",
       "      <td>84000900</td>\n",
       "    </tr>\n",
       "    <tr>\n",
       "      <th>2021-05-06</th>\n",
       "      <td>127.889999</td>\n",
       "      <td>129.750000</td>\n",
       "      <td>127.129997</td>\n",
       "      <td>129.740005</td>\n",
       "      <td>129.520004</td>\n",
       "      <td>78128300</td>\n",
       "    </tr>\n",
       "    <tr>\n",
       "      <th>2021-05-07</th>\n",
       "      <td>130.850006</td>\n",
       "      <td>131.259995</td>\n",
       "      <td>129.479996</td>\n",
       "      <td>130.210007</td>\n",
       "      <td>130.210007</td>\n",
       "      <td>78892700</td>\n",
       "    </tr>\n",
       "    <tr>\n",
       "      <th>2021-05-10</th>\n",
       "      <td>129.410004</td>\n",
       "      <td>129.539993</td>\n",
       "      <td>126.809998</td>\n",
       "      <td>126.849998</td>\n",
       "      <td>126.849998</td>\n",
       "      <td>88071200</td>\n",
       "    </tr>\n",
       "    <tr>\n",
       "      <th>2021-05-11</th>\n",
       "      <td>123.500000</td>\n",
       "      <td>126.269997</td>\n",
       "      <td>122.769997</td>\n",
       "      <td>125.910004</td>\n",
       "      <td>125.910004</td>\n",
       "      <td>126142800</td>\n",
       "    </tr>\n",
       "    <tr>\n",
       "      <th>2021-05-12</th>\n",
       "      <td>123.400002</td>\n",
       "      <td>124.639999</td>\n",
       "      <td>122.250000</td>\n",
       "      <td>122.769997</td>\n",
       "      <td>122.769997</td>\n",
       "      <td>112172300</td>\n",
       "    </tr>\n",
       "  </tbody>\n",
       "</table>\n",
       "</div>"
      ],
      "text/plain": [
       "                  Open        High         Low       Close   Adj Close  \\\n",
       "Date                                                                     \n",
       "2021-04-12  132.520004  132.850006  130.630005  131.240005  131.017456   \n",
       "2021-04-13  132.440002  134.660004  131.929993  134.429993  134.202042   \n",
       "2021-04-14  134.940002  135.000000  131.660004  132.029999  131.806122   \n",
       "2021-04-15  133.820007  135.000000  133.639999  134.500000  134.271927   \n",
       "2021-04-16  134.300003  134.669998  133.279999  134.160004  133.932510   \n",
       "2021-04-19  133.509995  135.470001  133.339996  134.839996  134.611343   \n",
       "2021-04-20  135.020004  135.529999  131.809998  133.110001  132.884293   \n",
       "2021-04-21  132.360001  133.750000  131.300003  133.500000  133.273621   \n",
       "2021-04-22  133.039993  134.149994  131.410004  131.940002  131.716278   \n",
       "2021-04-23  132.160004  135.119995  132.160004  134.320007  134.092239   \n",
       "2021-04-26  134.830002  135.059998  133.559998  134.720001  134.491562   \n",
       "2021-04-27  135.009995  135.410004  134.110001  134.389999  134.162109   \n",
       "2021-04-28  134.309998  135.020004  133.080002  133.580002  133.353485   \n",
       "2021-04-29  136.470001  137.070007  132.449997  133.479996  133.253662   \n",
       "2021-04-30  131.779999  133.559998  131.070007  131.460007  131.237091   \n",
       "2021-05-03  132.039993  134.070007  131.830002  132.539993  132.315247   \n",
       "2021-05-04  131.190002  131.490005  126.699997  127.849998  127.633202   \n",
       "2021-05-05  129.199997  130.449997  127.970001  128.100006  127.882790   \n",
       "2021-05-06  127.889999  129.750000  127.129997  129.740005  129.520004   \n",
       "2021-05-07  130.850006  131.259995  129.479996  130.210007  130.210007   \n",
       "2021-05-10  129.410004  129.539993  126.809998  126.849998  126.849998   \n",
       "2021-05-11  123.500000  126.269997  122.769997  125.910004  125.910004   \n",
       "2021-05-12  123.400002  124.639999  122.250000  122.769997  122.769997   \n",
       "\n",
       "               Volume  \n",
       "Date                   \n",
       "2021-04-12   91420000  \n",
       "2021-04-13   91266500  \n",
       "2021-04-14   87222800  \n",
       "2021-04-15   89347100  \n",
       "2021-04-16   84922400  \n",
       "2021-04-19   94264200  \n",
       "2021-04-20   94812300  \n",
       "2021-04-21   68847100  \n",
       "2021-04-22   84566500  \n",
       "2021-04-23   78657500  \n",
       "2021-04-26   66905100  \n",
       "2021-04-27   66015800  \n",
       "2021-04-28  107760100  \n",
       "2021-04-29  151101000  \n",
       "2021-04-30  109713200  \n",
       "2021-05-03   75135100  \n",
       "2021-05-04  137564700  \n",
       "2021-05-05   84000900  \n",
       "2021-05-06   78128300  \n",
       "2021-05-07   78892700  \n",
       "2021-05-10   88071200  \n",
       "2021-05-11  126142800  \n",
       "2021-05-12  112172300  "
      ]
     },
     "execution_count": 23,
     "metadata": {},
     "output_type": "execute_result"
    }
   ],
   "source": [
    "data.loc[\"2021-04-12\":\"2021-05-12\"]"
   ]
  },
  {
   "cell_type": "code",
   "execution_count": 34,
   "id": "7eee3807",
   "metadata": {},
   "outputs": [
    {
     "data": {
      "text/plain": [
       "<AxesSubplot:xlabel='Date'>"
      ]
     },
     "execution_count": 34,
     "metadata": {},
     "output_type": "execute_result"
    },
    {
     "data": {
      "image/png": "[encoded data removed]",
      "text/plain": [
       "<Figure size 432x288 with 1 Axes>"
      ]
     },
     "metadata": {
      "needs_background": "light"
     },
     "output_type": "display_data"
    }
   ],
   "source": [
    "data.Open.resample('M').mean().plot()"
   ]
  },
  {
   "cell_type": "code",
   "execution_count": 35,
   "id": "bca45c6f",
   "metadata": {},
   "outputs": [
    {
     "data": {
      "text/plain": [
       "<AxesSubplot:xlabel='Date'>"
      ]
     },
     "execution_count": 35,
     "metadata": {},
     "output_type": "execute_result"
    },
    {
     "data": {
      "image/png": "[encoded data removed]",
      "text/plain": [
       "<Figure size 432x288 with 1 Axes>"
      ]
     },
     "metadata": {
      "needs_background": "light"
     },
     "output_type": "display_data"
    }
   ],
   "source": [
    "data.Open.plot()"
   ]
  },
  {
   "cell_type": "code",
   "execution_count": 66,
   "id": "e246cbc6",
   "metadata": {},
   "outputs": [
    {
     "data": {
      "text/plain": [
       "<AxesSubplot:xlabel='Date'>"
      ]
     },
     "execution_count": 66,
     "metadata": {},
     "output_type": "execute_result"
    },
    {
     "data": {
      "image/png": "[encoded data removed]",
      "text/plain": [
       "<Figure size 432x288 with 1 Axes>"
      ]
     },
     "metadata": {
      "needs_background": "light"
     },
     "output_type": "display_data"
    }
   ],
   "source": [
    "data.Open.resample('W').mean().plot()"
   ]
  },
  {
   "cell_type": "code",
   "execution_count": 39,
   "id": "dcfc7a82",
   "metadata": {},
   "outputs": [
    {
     "data": {
      "text/plain": [
       "<AxesSubplot:xlabel='Date'>"
      ]
     },
     "execution_count": 39,
     "metadata": {},
     "output_type": "execute_result"
    },
    {
     "data": {
      "image/png": "[encoded data removed]",
      "text/plain": [
       "<Figure size 432x288 with 1 Axes>"
      ]
     },
     "metadata": {
      "needs_background": "light"
     },
     "output_type": "display_data"
    }
   ],
   "source": [
    "data.Open.resample('M').mean().plot(kind = \"bar\")"
   ]
  },
  {
   "cell_type": "markdown",
   "id": "7bd1983f",
   "metadata": {},
   "source": [
    "# Date Range"
   ]
  },
  {
   "cell_type": "code",
   "execution_count": 40,
   "id": "341b5bf7",
   "metadata": {},
   "outputs": [],
   "source": [
    "data2 =pd.read_csv('AAPL_No_Date.csv')"
   ]
  },
  {
   "cell_type": "code",
   "execution_count": 41,
   "id": "982e3a76",
   "metadata": {},
   "outputs": [
    {
     "data": {
      "text/html": [
       "<div>\n",
       "<style scoped>\n",
       "    .dataframe tbody tr th:only-of-type {\n",
       "        vertical-align: middle;\n",
       "    }\n",
       "\n",
       "    .dataframe tbody tr th {\n",
       "        vertical-align: top;\n",
       "    }\n",
       "\n",
       "    .dataframe thead th {\n",
       "        text-align: right;\n",
       "    }\n",
       "</style>\n",
       "<table border=\"1\" class=\"dataframe\">\n",
       "  <thead>\n",
       "    <tr style=\"text-align: right;\">\n",
       "      <th></th>\n",
       "      <th>Open</th>\n",
       "      <th>High</th>\n",
       "      <th>Low</th>\n",
       "      <th>Close</th>\n",
       "      <th>Adj Close</th>\n",
       "      <th>Volume</th>\n",
       "    </tr>\n",
       "  </thead>\n",
       "  <tbody>\n",
       "    <tr>\n",
       "      <th>0</th>\n",
       "      <td>100.589996</td>\n",
       "      <td>100.690002</td>\n",
       "      <td>98.040001</td>\n",
       "      <td>99.620003</td>\n",
       "      <td>93.514290</td>\n",
       "      <td>142718700</td>\n",
       "    </tr>\n",
       "    <tr>\n",
       "      <th>1</th>\n",
       "      <td>99.949997</td>\n",
       "      <td>102.379997</td>\n",
       "      <td>98.309998</td>\n",
       "      <td>100.730003</td>\n",
       "      <td>94.556244</td>\n",
       "      <td>280258200</td>\n",
       "    </tr>\n",
       "    <tr>\n",
       "      <th>2</th>\n",
       "      <td>101.330002</td>\n",
       "      <td>101.779999</td>\n",
       "      <td>95.180000</td>\n",
       "      <td>97.669998</td>\n",
       "      <td>91.683792</td>\n",
       "      <td>358539800</td>\n",
       "    </tr>\n",
       "    <tr>\n",
       "      <th>3</th>\n",
       "      <td>98.320000</td>\n",
       "      <td>105.489998</td>\n",
       "      <td>98.220001</td>\n",
       "      <td>105.220001</td>\n",
       "      <td>98.771042</td>\n",
       "      <td>358532900</td>\n",
       "    </tr>\n",
       "    <tr>\n",
       "      <th>4</th>\n",
       "      <td>104.849998</td>\n",
       "      <td>108.040001</td>\n",
       "      <td>104.699997</td>\n",
       "      <td>108.000000</td>\n",
       "      <td>101.380676</td>\n",
       "      <td>220230600</td>\n",
       "    </tr>\n",
       "  </tbody>\n",
       "</table>\n",
       "</div>"
      ],
      "text/plain": [
       "         Open        High         Low       Close   Adj Close     Volume\n",
       "0  100.589996  100.690002   98.040001   99.620003   93.514290  142718700\n",
       "1   99.949997  102.379997   98.309998  100.730003   94.556244  280258200\n",
       "2  101.330002  101.779999   95.180000   97.669998   91.683792  358539800\n",
       "3   98.320000  105.489998   98.220001  105.220001   98.771042  358532900\n",
       "4  104.849998  108.040001  104.699997  108.000000  101.380676  220230600"
      ]
     },
     "execution_count": 41,
     "metadata": {},
     "output_type": "execute_result"
    }
   ],
   "source": [
    "data2.head()"
   ]
  },
  {
   "cell_type": "code",
   "execution_count": 56,
   "id": "a674d8bf",
   "metadata": {},
   "outputs": [
    {
     "data": {
      "text/plain": [
       "DatetimeIndex(['2020-05-26', '2020-05-27', '2020-05-28', '2020-05-29',\n",
       "               '2020-06-01', '2020-06-02', '2020-06-03', '2020-06-04',\n",
       "               '2020-06-05', '2020-06-08',\n",
       "               ...\n",
       "               '2021-05-12', '2021-05-13', '2021-05-14', '2021-05-17',\n",
       "               '2021-05-18', '2021-05-19', '2021-05-20', '2021-05-21',\n",
       "               '2021-05-24', '2021-05-25'],\n",
       "              dtype='datetime64[ns]', length=261, freq='B')"
      ]
     },
     "execution_count": 56,
     "metadata": {},
     "output_type": "execute_result"
    }
   ],
   "source": [
    "rng = pd.date_range(\"2020-05-26\",\"2021-05-25\",freq='b')\n",
    "rng"
   ]
  },
  {
   "cell_type": "code",
   "execution_count": 63,
   "id": "a0a9cbd1",
   "metadata": {},
   "outputs": [],
   "source": [
    "data2.set_index(rng, inplace = True)"
   ]
  },
  {
   "cell_type": "code",
   "execution_count": 62,
   "id": "a7e93d35",
   "metadata": {},
   "outputs": [
    {
     "data": {
      "text/plain": [
       "DatetimeIndex(['2020-05-26', '2020-05-27', '2020-05-28', '2020-05-29',\n",
       "               '2020-06-01', '2020-06-02', '2020-06-03', '2020-06-04',\n",
       "               '2020-06-05', '2020-06-08',\n",
       "               ...\n",
       "               '2021-01-25', '2021-01-26', '2021-01-27', '2021-01-28',\n",
       "               '2021-01-29', '2021-02-01', '2021-02-02', '2021-02-03',\n",
       "               '2021-02-04', '2021-02-05'],\n",
       "              dtype='datetime64[ns]', length=184, freq='B')"
      ]
     },
     "execution_count": 62,
     "metadata": {},
     "output_type": "execute_result"
    }
   ],
   "source": [
    "rng = pd.date_range(\"2020-05-26\",periods= 184,freq='b')\n",
    "rng"
   ]
  },
  {
   "cell_type": "markdown",
   "id": "eb9ee0c6",
   "metadata": {},
   "source": [
    "## Using Datetime to convert dates from string"
   ]
  },
  {
   "cell_type": "code",
   "execution_count": 69,
   "id": "52c31a20",
   "metadata": {},
   "outputs": [],
   "source": [
    "dates = ['05-26-2021','05/26/2021','05.26.2021','26-May-2021']"
   ]
  },
  {
   "cell_type": "code",
   "execution_count": 70,
   "id": "322157d3",
   "metadata": {},
   "outputs": [
    {
     "data": {
      "text/plain": [
       "DatetimeIndex(['2021-05-26', '2021-05-26', '2021-05-26', '2021-05-26'], dtype='datetime64[ns]', freq=None)"
      ]
     },
     "execution_count": 70,
     "metadata": {},
     "output_type": "execute_result"
    }
   ],
   "source": [
    "pd.to_datetime(dates)"
   ]
  },
  {
   "cell_type": "code",
   "execution_count": 72,
   "id": "f9aee039",
   "metadata": {},
   "outputs": [
    {
     "data": {
      "text/plain": [
       "Timestamp('2021-05-01 00:00:00')"
      ]
     },
     "execution_count": 72,
     "metadata": {},
     "output_type": "execute_result"
    }
   ],
   "source": [
    "# if date follow europian standerd i.e Day first Eg 01/05/2021, this is 1st may.\n",
    "pd.to_datetime('01/05/2021', dayfirst=True)"
   ]
  },
  {
   "cell_type": "code",
   "execution_count": 73,
   "id": "e0233d84",
   "metadata": {},
   "outputs": [
    {
     "data": {
      "text/plain": [
       "Timestamp('2021-05-01 00:00:00')"
      ]
     },
     "execution_count": 73,
     "metadata": {},
     "output_type": "execute_result"
    }
   ],
   "source": [
    "# changing delimeter\n",
    "pd.to_datetime('01#05#2021', format='%d#%m#%Y')"
   ]
  },
  {
   "cell_type": "code",
   "execution_count": 74,
   "id": "2d7672cf",
   "metadata": {},
   "outputs": [
    {
     "data": {
      "text/plain": [
       "Index(['05-26-2021', '05/26/2021', '05.26.2021', '26-May-2021', 'abc'], dtype='object')"
      ]
     },
     "execution_count": 74,
     "metadata": {},
     "output_type": "execute_result"
    }
   ],
   "source": [
    "# Handaling garbage sring\n",
    "dates = ['05-26-2021','05/26/2021','05.26.2021','26-May-2021','abc']\n",
    "pd.to_datetime(dates, errors='ignore')"
   ]
  },
  {
   "cell_type": "code",
   "execution_count": 75,
   "id": "059737c7",
   "metadata": {},
   "outputs": [
    {
     "data": {
      "text/plain": [
       "DatetimeIndex(['2021-05-26', '2021-05-26', '2021-05-26', '2021-05-26', 'NaT'], dtype='datetime64[ns]', freq=None)"
      ]
     },
     "execution_count": 75,
     "metadata": {},
     "output_type": "execute_result"
    }
   ],
   "source": [
    "#If we want to convert rest of the arguments\n",
    "\n",
    "pd.to_datetime(dates, errors='coerce')"
   ]
  },
  {
   "cell_type": "code",
   "execution_count": 79,
   "id": "5576b05b",
   "metadata": {},
   "outputs": [],
   "source": [
    "#Converting from epoch \n",
    "t = 1622012346\n",
    "dt = pd.to_datetime([t],unit='s')"
   ]
  },
  {
   "cell_type": "code",
   "execution_count": 81,
   "id": "afdcf283",
   "metadata": {},
   "outputs": [
    {
     "data": {
      "text/plain": [
       "array([1622012346000000000], dtype=int64)"
      ]
     },
     "execution_count": 81,
     "metadata": {},
     "output_type": "execute_result"
    }
   ],
   "source": [
    "#time to epoch\n",
    "dt.view('int64')"
   ]
  },
  {
   "cell_type": "code",
   "execution_count": 82,
   "id": "76f6de42",
   "metadata": {},
   "outputs": [],
   "source": [
    "# Using period function \n",
    "y = pd.Period('2016')"
   ]
  },
  {
   "cell_type": "code",
   "execution_count": 83,
   "id": "209e8ab9",
   "metadata": {},
   "outputs": [
    {
     "data": {
      "text/plain": [
       "Period('2016', 'A-DEC')"
      ]
     },
     "execution_count": 83,
     "metadata": {},
     "output_type": "execute_result"
    }
   ],
   "source": [
    "y"
   ]
  },
  {
   "cell_type": "code",
   "execution_count": 85,
   "id": "326ea7b8",
   "metadata": {},
   "outputs": [
    {
     "data": {
      "text/plain": [
       "Timestamp('2016-01-01 00:00:00')"
      ]
     },
     "execution_count": 85,
     "metadata": {},
     "output_type": "execute_result"
    }
   ],
   "source": [
    "y.start_time"
   ]
  },
  {
   "cell_type": "code",
   "execution_count": 86,
   "id": "d081c2eb",
   "metadata": {},
   "outputs": [
    {
     "data": {
      "text/plain": [
       "Timestamp('2016-12-31 23:59:59.999999999')"
      ]
     },
     "execution_count": 86,
     "metadata": {},
     "output_type": "execute_result"
    }
   ],
   "source": [
    "y.end_time"
   ]
  },
  {
   "cell_type": "code",
   "execution_count": 87,
   "id": "28be6bd9",
   "metadata": {},
   "outputs": [],
   "source": [
    "m = pd.Period('2021-01')"
   ]
  },
  {
   "cell_type": "code",
   "execution_count": 88,
   "id": "22e183e8",
   "metadata": {},
   "outputs": [
    {
     "data": {
      "text/plain": [
       "Period('2021-01', 'M')"
      ]
     },
     "execution_count": 88,
     "metadata": {},
     "output_type": "execute_result"
    }
   ],
   "source": [
    "m"
   ]
  },
  {
   "cell_type": "code",
   "execution_count": 89,
   "id": "d94c5fa7",
   "metadata": {},
   "outputs": [],
   "source": [
    "d = pd.Period('2021-01-01')"
   ]
  },
  {
   "cell_type": "code",
   "execution_count": 90,
   "id": "786fd29e",
   "metadata": {},
   "outputs": [
    {
     "data": {
      "text/plain": [
       "Period('2021-01-01', 'D')"
      ]
     },
     "execution_count": 90,
     "metadata": {},
     "output_type": "execute_result"
    }
   ],
   "source": [
    "d"
   ]
  },
  {
   "cell_type": "code",
   "execution_count": 95,
   "id": "6116d57d",
   "metadata": {},
   "outputs": [],
   "source": [
    "h = pd.Period('2021-01-01 00')"
   ]
  },
  {
   "cell_type": "code",
   "execution_count": 96,
   "id": "bd33358f",
   "metadata": {},
   "outputs": [
    {
     "data": {
      "text/plain": [
       "Period('2021-01-01 00:00', 'H')"
      ]
     },
     "execution_count": 96,
     "metadata": {},
     "output_type": "execute_result"
    }
   ],
   "source": [
    "h"
   ]
  },
  {
   "cell_type": "code",
   "execution_count": 97,
   "id": "4807a7ad",
   "metadata": {},
   "outputs": [],
   "source": [
    "m = pd.Period('2021-01-01 00:00')"
   ]
  },
  {
   "cell_type": "code",
   "execution_count": 98,
   "id": "3b1363ae",
   "metadata": {},
   "outputs": [
    {
     "data": {
      "text/plain": [
       "Period('2021-01-01 00:00', 'T')"
      ]
     },
     "execution_count": 98,
     "metadata": {},
     "output_type": "execute_result"
    }
   ],
   "source": [
    "m"
   ]
  },
  {
   "cell_type": "code",
   "execution_count": 99,
   "id": "e861838f",
   "metadata": {},
   "outputs": [],
   "source": [
    "# Quaterly\n",
    "q = pd.Period('2021Q1')"
   ]
  },
  {
   "cell_type": "code",
   "execution_count": 100,
   "id": "b3980775",
   "metadata": {},
   "outputs": [
    {
     "data": {
      "text/plain": [
       "Period('2021Q1', 'Q-DEC')"
      ]
     },
     "execution_count": 100,
     "metadata": {},
     "output_type": "execute_result"
    }
   ],
   "source": [
    "q"
   ]
  },
  {
   "cell_type": "code",
   "execution_count": 101,
   "id": "5fa1191e",
   "metadata": {},
   "outputs": [
    {
     "data": {
      "text/plain": [
       "Period('2021Q2', 'Q-DEC')"
      ]
     },
     "execution_count": 101,
     "metadata": {},
     "output_type": "execute_result"
    }
   ],
   "source": [
    "q+1"
   ]
  },
  {
   "cell_type": "code",
   "execution_count": 102,
   "id": "07484cf4",
   "metadata": {},
   "outputs": [],
   "source": [
    "q = pd.Period('2021Q1', freq ='Q-JAN')"
   ]
  },
  {
   "cell_type": "code",
   "execution_count": 103,
   "id": "1a9bd138",
   "metadata": {},
   "outputs": [
    {
     "data": {
      "text/plain": [
       "Period('2021Q1', 'Q-JAN')"
      ]
     },
     "execution_count": 103,
     "metadata": {},
     "output_type": "execute_result"
    }
   ],
   "source": [
    "q"
   ]
  },
  {
   "cell_type": "code",
   "execution_count": 137,
   "id": "59d72365",
   "metadata": {},
   "outputs": [],
   "source": [
    "data = pd.read_csv('wmt.csv')"
   ]
  },
  {
   "cell_type": "code",
   "execution_count": 139,
   "id": "b57c68cf",
   "metadata": {},
   "outputs": [
    {
     "data": {
      "text/html": [
       "<div>\n",
       "<style scoped>\n",
       "    .dataframe tbody tr th:only-of-type {\n",
       "        vertical-align: middle;\n",
       "    }\n",
       "\n",
       "    .dataframe tbody tr th {\n",
       "        vertical-align: top;\n",
       "    }\n",
       "\n",
       "    .dataframe thead th {\n",
       "        text-align: right;\n",
       "    }\n",
       "</style>\n",
       "<table border=\"1\" class=\"dataframe\">\n",
       "  <thead>\n",
       "    <tr style=\"text-align: right;\">\n",
       "      <th></th>\n",
       "      <th>Line Item</th>\n",
       "      <th>2021Q1</th>\n",
       "      <th>2020Q4</th>\n",
       "      <th>2020Q3</th>\n",
       "      <th>2020Q2</th>\n",
       "      <th>2020Q1</th>\n",
       "    </tr>\n",
       "  </thead>\n",
       "  <tbody>\n",
       "    <tr>\n",
       "      <th>0</th>\n",
       "      <td>Total revenue</td>\n",
       "      <td>437050000</td>\n",
       "      <td>420150000</td>\n",
       "      <td>401350000</td>\n",
       "      <td>383220000</td>\n",
       "      <td>399460000</td>\n",
       "    </tr>\n",
       "    <tr>\n",
       "      <th>1</th>\n",
       "      <td>Cost of revenue</td>\n",
       "      <td>176780000</td>\n",
       "      <td>238270000</td>\n",
       "      <td>229310000</td>\n",
       "      <td>224390000</td>\n",
       "      <td>225200000</td>\n",
       "    </tr>\n",
       "    <tr>\n",
       "      <th>2</th>\n",
       "      <td>Gross profit</td>\n",
       "      <td>260270000</td>\n",
       "      <td>181880000</td>\n",
       "      <td>172040000</td>\n",
       "      <td>158830000</td>\n",
       "      <td>174260000</td>\n",
       "    </tr>\n",
       "  </tbody>\n",
       "</table>\n",
       "</div>"
      ],
      "text/plain": [
       "         Line Item     2021Q1     2020Q4     2020Q3     2020Q2     2020Q1\n",
       "0    Total revenue  437050000  420150000  401350000  383220000  399460000\n",
       "1  Cost of revenue  176780000  238270000  229310000  224390000  225200000\n",
       "2     Gross profit  260270000  181880000  172040000  158830000  174260000"
      ]
     },
     "execution_count": 139,
     "metadata": {},
     "output_type": "execute_result"
    }
   ],
   "source": [
    "data.head()"
   ]
  },
  {
   "cell_type": "code",
   "execution_count": 141,
   "id": "54790e0f",
   "metadata": {},
   "outputs": [],
   "source": [
    "data.set_index('Line Item', inplace = True)"
   ]
  },
  {
   "cell_type": "code",
   "execution_count": 142,
   "id": "b8f4b8ed",
   "metadata": {},
   "outputs": [],
   "source": [
    "data = data.T"
   ]
  },
  {
   "cell_type": "code",
   "execution_count": 143,
   "id": "68980b5a",
   "metadata": {},
   "outputs": [
    {
     "data": {
      "text/plain": [
       "Index(['2021Q1', '2020Q4', '2020Q3', '2020Q2', '2020Q1'], dtype='object')"
      ]
     },
     "execution_count": 143,
     "metadata": {},
     "output_type": "execute_result"
    }
   ],
   "source": [
    "data.index"
   ]
  },
  {
   "cell_type": "code",
   "execution_count": 145,
   "id": "73b23fdf",
   "metadata": {},
   "outputs": [],
   "source": [
    "data.index = pd.PeriodIndex(data.index, freq='Q')"
   ]
  },
  {
   "cell_type": "code",
   "execution_count": 147,
   "id": "d1e35005",
   "metadata": {},
   "outputs": [
    {
     "data": {
      "text/plain": [
       "PeriodIndex(['2021Q1', '2020Q4', '2020Q3', '2020Q2', '2020Q1'], dtype='period[Q-DEC]', freq='Q-DEC')"
      ]
     },
     "execution_count": 147,
     "metadata": {},
     "output_type": "execute_result"
    }
   ],
   "source": [
    "data.index"
   ]
  },
  {
   "cell_type": "code",
   "execution_count": 152,
   "id": "3aaffc67",
   "metadata": {},
   "outputs": [],
   "source": [
    "data['end_date'] = data.index.map(lambda x:x.end_time)"
   ]
  },
  {
   "cell_type": "code",
   "execution_count": 153,
   "id": "a8be5e20",
   "metadata": {},
   "outputs": [
    {
     "data": {
      "text/html": [
       "<div>\n",
       "<style scoped>\n",
       "    .dataframe tbody tr th:only-of-type {\n",
       "        vertical-align: middle;\n",
       "    }\n",
       "\n",
       "    .dataframe tbody tr th {\n",
       "        vertical-align: top;\n",
       "    }\n",
       "\n",
       "    .dataframe thead th {\n",
       "        text-align: right;\n",
       "    }\n",
       "</style>\n",
       "<table border=\"1\" class=\"dataframe\">\n",
       "  <thead>\n",
       "    <tr style=\"text-align: right;\">\n",
       "      <th>Line Item</th>\n",
       "      <th>Total revenue</th>\n",
       "      <th>Cost of revenue</th>\n",
       "      <th>Gross profit</th>\n",
       "      <th>start_date</th>\n",
       "      <th>end_date</th>\n",
       "    </tr>\n",
       "  </thead>\n",
       "  <tbody>\n",
       "    <tr>\n",
       "      <th>2021Q1</th>\n",
       "      <td>437050000</td>\n",
       "      <td>176780000</td>\n",
       "      <td>260270000</td>\n",
       "      <td>2021-01-01</td>\n",
       "      <td>2021-03-31 23:59:59.999999999</td>\n",
       "    </tr>\n",
       "    <tr>\n",
       "      <th>2020Q4</th>\n",
       "      <td>420150000</td>\n",
       "      <td>238270000</td>\n",
       "      <td>181880000</td>\n",
       "      <td>2020-10-01</td>\n",
       "      <td>2020-12-31 23:59:59.999999999</td>\n",
       "    </tr>\n",
       "    <tr>\n",
       "      <th>2020Q3</th>\n",
       "      <td>401350000</td>\n",
       "      <td>229310000</td>\n",
       "      <td>172040000</td>\n",
       "      <td>2020-07-01</td>\n",
       "      <td>2020-09-30 23:59:59.999999999</td>\n",
       "    </tr>\n",
       "    <tr>\n",
       "      <th>2020Q2</th>\n",
       "      <td>383220000</td>\n",
       "      <td>224390000</td>\n",
       "      <td>158830000</td>\n",
       "      <td>2020-04-01</td>\n",
       "      <td>2020-06-30 23:59:59.999999999</td>\n",
       "    </tr>\n",
       "    <tr>\n",
       "      <th>2020Q1</th>\n",
       "      <td>399460000</td>\n",
       "      <td>225200000</td>\n",
       "      <td>174260000</td>\n",
       "      <td>2020-01-01</td>\n",
       "      <td>2020-03-31 23:59:59.999999999</td>\n",
       "    </tr>\n",
       "  </tbody>\n",
       "</table>\n",
       "</div>"
      ],
      "text/plain": [
       "Line Item  Total revenue  Cost of revenue  Gross profit start_date  \\\n",
       "2021Q1         437050000        176780000     260270000 2021-01-01   \n",
       "2020Q4         420150000        238270000     181880000 2020-10-01   \n",
       "2020Q3         401350000        229310000     172040000 2020-07-01   \n",
       "2020Q2         383220000        224390000     158830000 2020-04-01   \n",
       "2020Q1         399460000        225200000     174260000 2020-01-01   \n",
       "\n",
       "Line Item                      end_date  \n",
       "2021Q1    2021-03-31 23:59:59.999999999  \n",
       "2020Q4    2020-12-31 23:59:59.999999999  \n",
       "2020Q3    2020-09-30 23:59:59.999999999  \n",
       "2020Q2    2020-06-30 23:59:59.999999999  \n",
       "2020Q1    2020-03-31 23:59:59.999999999  "
      ]
     },
     "execution_count": 153,
     "metadata": {},
     "output_type": "execute_result"
    }
   ],
   "source": [
    "data"
   ]
  },
  {
   "cell_type": "code",
   "execution_count": 154,
   "id": "af56368e",
   "metadata": {},
   "outputs": [],
   "source": [
    "data['start_date'] = data.index.map(lambda x:x.start_time)"
   ]
  },
  {
   "cell_type": "code",
   "execution_count": 155,
   "id": "e2d686d9",
   "metadata": {},
   "outputs": [
    {
     "data": {
      "text/html": [
       "<div>\n",
       "<style scoped>\n",
       "    .dataframe tbody tr th:only-of-type {\n",
       "        vertical-align: middle;\n",
       "    }\n",
       "\n",
       "    .dataframe tbody tr th {\n",
       "        vertical-align: top;\n",
       "    }\n",
       "\n",
       "    .dataframe thead th {\n",
       "        text-align: right;\n",
       "    }\n",
       "</style>\n",
       "<table border=\"1\" class=\"dataframe\">\n",
       "  <thead>\n",
       "    <tr style=\"text-align: right;\">\n",
       "      <th>Line Item</th>\n",
       "      <th>Total revenue</th>\n",
       "      <th>Cost of revenue</th>\n",
       "      <th>Gross profit</th>\n",
       "      <th>start_date</th>\n",
       "      <th>end_date</th>\n",
       "    </tr>\n",
       "  </thead>\n",
       "  <tbody>\n",
       "    <tr>\n",
       "      <th>2021Q1</th>\n",
       "      <td>437050000</td>\n",
       "      <td>176780000</td>\n",
       "      <td>260270000</td>\n",
       "      <td>2021-01-01</td>\n",
       "      <td>2021-03-31 23:59:59.999999999</td>\n",
       "    </tr>\n",
       "    <tr>\n",
       "      <th>2020Q4</th>\n",
       "      <td>420150000</td>\n",
       "      <td>238270000</td>\n",
       "      <td>181880000</td>\n",
       "      <td>2020-10-01</td>\n",
       "      <td>2020-12-31 23:59:59.999999999</td>\n",
       "    </tr>\n",
       "    <tr>\n",
       "      <th>2020Q3</th>\n",
       "      <td>401350000</td>\n",
       "      <td>229310000</td>\n",
       "      <td>172040000</td>\n",
       "      <td>2020-07-01</td>\n",
       "      <td>2020-09-30 23:59:59.999999999</td>\n",
       "    </tr>\n",
       "    <tr>\n",
       "      <th>2020Q2</th>\n",
       "      <td>383220000</td>\n",
       "      <td>224390000</td>\n",
       "      <td>158830000</td>\n",
       "      <td>2020-04-01</td>\n",
       "      <td>2020-06-30 23:59:59.999999999</td>\n",
       "    </tr>\n",
       "    <tr>\n",
       "      <th>2020Q1</th>\n",
       "      <td>399460000</td>\n",
       "      <td>225200000</td>\n",
       "      <td>174260000</td>\n",
       "      <td>2020-01-01</td>\n",
       "      <td>2020-03-31 23:59:59.999999999</td>\n",
       "    </tr>\n",
       "  </tbody>\n",
       "</table>\n",
       "</div>"
      ],
      "text/plain": [
       "Line Item  Total revenue  Cost of revenue  Gross profit start_date  \\\n",
       "2021Q1         437050000        176780000     260270000 2021-01-01   \n",
       "2020Q4         420150000        238270000     181880000 2020-10-01   \n",
       "2020Q3         401350000        229310000     172040000 2020-07-01   \n",
       "2020Q2         383220000        224390000     158830000 2020-04-01   \n",
       "2020Q1         399460000        225200000     174260000 2020-01-01   \n",
       "\n",
       "Line Item                      end_date  \n",
       "2021Q1    2021-03-31 23:59:59.999999999  \n",
       "2020Q4    2020-12-31 23:59:59.999999999  \n",
       "2020Q3    2020-09-30 23:59:59.999999999  \n",
       "2020Q2    2020-06-30 23:59:59.999999999  \n",
       "2020Q1    2020-03-31 23:59:59.999999999  "
      ]
     },
     "execution_count": 155,
     "metadata": {},
     "output_type": "execute_result"
    }
   ],
   "source": [
    "data"
   ]
  },
  {
   "cell_type": "markdown",
   "id": "b195a9a4",
   "metadata": {},
   "source": [
    "# Shifting and Lagging "
   ]
  },
  {
   "cell_type": "code",
   "execution_count": 156,
   "id": "5d392756",
   "metadata": {},
   "outputs": [],
   "source": [
    "#shift()\n",
    "#tshift()\n",
    "data = pd.read_csv('AAPL-1.csv',parse_dates=['Date'],index_col='Date' )"
   ]
  },
  {
   "cell_type": "code",
   "execution_count": 160,
   "id": "6127333d",
   "metadata": {},
   "outputs": [],
   "source": [
    "data = data['2021-05-15':'2021-05-25']"
   ]
  },
  {
   "cell_type": "code",
   "execution_count": 166,
   "id": "e6254572",
   "metadata": {},
   "outputs": [],
   "source": [
    "df = pd.DataFrame()\n",
    "df['Open'] = data['Open']"
   ]
  },
  {
   "cell_type": "code",
   "execution_count": 167,
   "id": "0581aa6b",
   "metadata": {},
   "outputs": [
    {
     "data": {
      "text/html": [
       "<div>\n",
       "<style scoped>\n",
       "    .dataframe tbody tr th:only-of-type {\n",
       "        vertical-align: middle;\n",
       "    }\n",
       "\n",
       "    .dataframe tbody tr th {\n",
       "        vertical-align: top;\n",
       "    }\n",
       "\n",
       "    .dataframe thead th {\n",
       "        text-align: right;\n",
       "    }\n",
       "</style>\n",
       "<table border=\"1\" class=\"dataframe\">\n",
       "  <thead>\n",
       "    <tr style=\"text-align: right;\">\n",
       "      <th></th>\n",
       "      <th>Open</th>\n",
       "    </tr>\n",
       "    <tr>\n",
       "      <th>Date</th>\n",
       "      <th></th>\n",
       "    </tr>\n",
       "  </thead>\n",
       "  <tbody>\n",
       "    <tr>\n",
       "      <th>2021-05-17</th>\n",
       "      <td>126.820000</td>\n",
       "    </tr>\n",
       "    <tr>\n",
       "      <th>2021-05-18</th>\n",
       "      <td>126.559998</td>\n",
       "    </tr>\n",
       "    <tr>\n",
       "      <th>2021-05-19</th>\n",
       "      <td>123.160004</td>\n",
       "    </tr>\n",
       "    <tr>\n",
       "      <th>2021-05-20</th>\n",
       "      <td>125.230003</td>\n",
       "    </tr>\n",
       "    <tr>\n",
       "      <th>2021-05-21</th>\n",
       "      <td>127.820000</td>\n",
       "    </tr>\n",
       "    <tr>\n",
       "      <th>2021-05-24</th>\n",
       "      <td>126.010002</td>\n",
       "    </tr>\n",
       "    <tr>\n",
       "      <th>2021-05-25</th>\n",
       "      <td>127.820000</td>\n",
       "    </tr>\n",
       "  </tbody>\n",
       "</table>\n",
       "</div>"
      ],
      "text/plain": [
       "                  Open\n",
       "Date                  \n",
       "2021-05-17  126.820000\n",
       "2021-05-18  126.559998\n",
       "2021-05-19  123.160004\n",
       "2021-05-20  125.230003\n",
       "2021-05-21  127.820000\n",
       "2021-05-24  126.010002\n",
       "2021-05-25  127.820000"
      ]
     },
     "execution_count": 167,
     "metadata": {},
     "output_type": "execute_result"
    }
   ],
   "source": [
    "df"
   ]
  },
  {
   "cell_type": "code",
   "execution_count": 168,
   "id": "868e875e",
   "metadata": {},
   "outputs": [],
   "source": [
    "df['Shift_1']= df.shift(1)"
   ]
  },
  {
   "cell_type": "code",
   "execution_count": 169,
   "id": "9d43d144",
   "metadata": {},
   "outputs": [
    {
     "data": {
      "text/html": [
       "<div>\n",
       "<style scoped>\n",
       "    .dataframe tbody tr th:only-of-type {\n",
       "        vertical-align: middle;\n",
       "    }\n",
       "\n",
       "    .dataframe tbody tr th {\n",
       "        vertical-align: top;\n",
       "    }\n",
       "\n",
       "    .dataframe thead th {\n",
       "        text-align: right;\n",
       "    }\n",
       "</style>\n",
       "<table border=\"1\" class=\"dataframe\">\n",
       "  <thead>\n",
       "    <tr style=\"text-align: right;\">\n",
       "      <th></th>\n",
       "      <th>Open</th>\n",
       "      <th>Shift_1</th>\n",
       "    </tr>\n",
       "    <tr>\n",
       "      <th>Date</th>\n",
       "      <th></th>\n",
       "      <th></th>\n",
       "    </tr>\n",
       "  </thead>\n",
       "  <tbody>\n",
       "    <tr>\n",
       "      <th>2021-05-17</th>\n",
       "      <td>126.820000</td>\n",
       "      <td>NaN</td>\n",
       "    </tr>\n",
       "    <tr>\n",
       "      <th>2021-05-18</th>\n",
       "      <td>126.559998</td>\n",
       "      <td>126.820000</td>\n",
       "    </tr>\n",
       "    <tr>\n",
       "      <th>2021-05-19</th>\n",
       "      <td>123.160004</td>\n",
       "      <td>126.559998</td>\n",
       "    </tr>\n",
       "    <tr>\n",
       "      <th>2021-05-20</th>\n",
       "      <td>125.230003</td>\n",
       "      <td>123.160004</td>\n",
       "    </tr>\n",
       "    <tr>\n",
       "      <th>2021-05-21</th>\n",
       "      <td>127.820000</td>\n",
       "      <td>125.230003</td>\n",
       "    </tr>\n",
       "    <tr>\n",
       "      <th>2021-05-24</th>\n",
       "      <td>126.010002</td>\n",
       "      <td>127.820000</td>\n",
       "    </tr>\n",
       "    <tr>\n",
       "      <th>2021-05-25</th>\n",
       "      <td>127.820000</td>\n",
       "      <td>126.010002</td>\n",
       "    </tr>\n",
       "  </tbody>\n",
       "</table>\n",
       "</div>"
      ],
      "text/plain": [
       "                  Open     Shift_1\n",
       "Date                              \n",
       "2021-05-17  126.820000         NaN\n",
       "2021-05-18  126.559998  126.820000\n",
       "2021-05-19  123.160004  126.559998\n",
       "2021-05-20  125.230003  123.160004\n",
       "2021-05-21  127.820000  125.230003\n",
       "2021-05-24  126.010002  127.820000\n",
       "2021-05-25  127.820000  126.010002"
      ]
     },
     "execution_count": 169,
     "metadata": {},
     "output_type": "execute_result"
    }
   ],
   "source": [
    "df"
   ]
  },
  {
   "cell_type": "code",
   "execution_count": 171,
   "id": "76fede92",
   "metadata": {},
   "outputs": [],
   "source": [
    "df['Shift_2']= df['Open'].shift(2)"
   ]
  },
  {
   "cell_type": "code",
   "execution_count": 172,
   "id": "00483d47",
   "metadata": {},
   "outputs": [
    {
     "data": {
      "text/html": [
       "<div>\n",
       "<style scoped>\n",
       "    .dataframe tbody tr th:only-of-type {\n",
       "        vertical-align: middle;\n",
       "    }\n",
       "\n",
       "    .dataframe tbody tr th {\n",
       "        vertical-align: top;\n",
       "    }\n",
       "\n",
       "    .dataframe thead th {\n",
       "        text-align: right;\n",
       "    }\n",
       "</style>\n",
       "<table border=\"1\" class=\"dataframe\">\n",
       "  <thead>\n",
       "    <tr style=\"text-align: right;\">\n",
       "      <th></th>\n",
       "      <th>Open</th>\n",
       "      <th>Shift_1</th>\n",
       "      <th>Shift_2</th>\n",
       "    </tr>\n",
       "    <tr>\n",
       "      <th>Date</th>\n",
       "      <th></th>\n",
       "      <th></th>\n",
       "      <th></th>\n",
       "    </tr>\n",
       "  </thead>\n",
       "  <tbody>\n",
       "    <tr>\n",
       "      <th>2021-05-17</th>\n",
       "      <td>126.820000</td>\n",
       "      <td>NaN</td>\n",
       "      <td>NaN</td>\n",
       "    </tr>\n",
       "    <tr>\n",
       "      <th>2021-05-18</th>\n",
       "      <td>126.559998</td>\n",
       "      <td>126.820000</td>\n",
       "      <td>NaN</td>\n",
       "    </tr>\n",
       "    <tr>\n",
       "      <th>2021-05-19</th>\n",
       "      <td>123.160004</td>\n",
       "      <td>126.559998</td>\n",
       "      <td>126.820000</td>\n",
       "    </tr>\n",
       "    <tr>\n",
       "      <th>2021-05-20</th>\n",
       "      <td>125.230003</td>\n",
       "      <td>123.160004</td>\n",
       "      <td>126.559998</td>\n",
       "    </tr>\n",
       "    <tr>\n",
       "      <th>2021-05-21</th>\n",
       "      <td>127.820000</td>\n",
       "      <td>125.230003</td>\n",
       "      <td>123.160004</td>\n",
       "    </tr>\n",
       "    <tr>\n",
       "      <th>2021-05-24</th>\n",
       "      <td>126.010002</td>\n",
       "      <td>127.820000</td>\n",
       "      <td>125.230003</td>\n",
       "    </tr>\n",
       "    <tr>\n",
       "      <th>2021-05-25</th>\n",
       "      <td>127.820000</td>\n",
       "      <td>126.010002</td>\n",
       "      <td>127.820000</td>\n",
       "    </tr>\n",
       "  </tbody>\n",
       "</table>\n",
       "</div>"
      ],
      "text/plain": [
       "                  Open     Shift_1     Shift_2\n",
       "Date                                          \n",
       "2021-05-17  126.820000         NaN         NaN\n",
       "2021-05-18  126.559998  126.820000         NaN\n",
       "2021-05-19  123.160004  126.559998  126.820000\n",
       "2021-05-20  125.230003  123.160004  126.559998\n",
       "2021-05-21  127.820000  125.230003  123.160004\n",
       "2021-05-24  126.010002  127.820000  125.230003\n",
       "2021-05-25  127.820000  126.010002  127.820000"
      ]
     },
     "execution_count": 172,
     "metadata": {},
     "output_type": "execute_result"
    }
   ],
   "source": [
    "df"
   ]
  },
  {
   "cell_type": "code",
   "execution_count": 173,
   "id": "c2c2e91b",
   "metadata": {},
   "outputs": [],
   "source": [
    "df['Lag_2']= df['Open'].shift(-2)"
   ]
  },
  {
   "cell_type": "code",
   "execution_count": 174,
   "id": "19bd2b6b",
   "metadata": {},
   "outputs": [
    {
     "data": {
      "text/html": [
       "<div>\n",
       "<style scoped>\n",
       "    .dataframe tbody tr th:only-of-type {\n",
       "        vertical-align: middle;\n",
       "    }\n",
       "\n",
       "    .dataframe tbody tr th {\n",
       "        vertical-align: top;\n",
       "    }\n",
       "\n",
       "    .dataframe thead th {\n",
       "        text-align: right;\n",
       "    }\n",
       "</style>\n",
       "<table border=\"1\" class=\"dataframe\">\n",
       "  <thead>\n",
       "    <tr style=\"text-align: right;\">\n",
       "      <th></th>\n",
       "      <th>Open</th>\n",
       "      <th>Shift_1</th>\n",
       "      <th>Shift_2</th>\n",
       "      <th>Lag_2</th>\n",
       "    </tr>\n",
       "    <tr>\n",
       "      <th>Date</th>\n",
       "      <th></th>\n",
       "      <th></th>\n",
       "      <th></th>\n",
       "      <th></th>\n",
       "    </tr>\n",
       "  </thead>\n",
       "  <tbody>\n",
       "    <tr>\n",
       "      <th>2021-05-17</th>\n",
       "      <td>126.820000</td>\n",
       "      <td>NaN</td>\n",
       "      <td>NaN</td>\n",
       "      <td>123.160004</td>\n",
       "    </tr>\n",
       "    <tr>\n",
       "      <th>2021-05-18</th>\n",
       "      <td>126.559998</td>\n",
       "      <td>126.820000</td>\n",
       "      <td>NaN</td>\n",
       "      <td>125.230003</td>\n",
       "    </tr>\n",
       "    <tr>\n",
       "      <th>2021-05-19</th>\n",
       "      <td>123.160004</td>\n",
       "      <td>126.559998</td>\n",
       "      <td>126.820000</td>\n",
       "      <td>127.820000</td>\n",
       "    </tr>\n",
       "    <tr>\n",
       "      <th>2021-05-20</th>\n",
       "      <td>125.230003</td>\n",
       "      <td>123.160004</td>\n",
       "      <td>126.559998</td>\n",
       "      <td>126.010002</td>\n",
       "    </tr>\n",
       "    <tr>\n",
       "      <th>2021-05-21</th>\n",
       "      <td>127.820000</td>\n",
       "      <td>125.230003</td>\n",
       "      <td>123.160004</td>\n",
       "      <td>127.820000</td>\n",
       "    </tr>\n",
       "    <tr>\n",
       "      <th>2021-05-24</th>\n",
       "      <td>126.010002</td>\n",
       "      <td>127.820000</td>\n",
       "      <td>125.230003</td>\n",
       "      <td>NaN</td>\n",
       "    </tr>\n",
       "    <tr>\n",
       "      <th>2021-05-25</th>\n",
       "      <td>127.820000</td>\n",
       "      <td>126.010002</td>\n",
       "      <td>127.820000</td>\n",
       "      <td>NaN</td>\n",
       "    </tr>\n",
       "  </tbody>\n",
       "</table>\n",
       "</div>"
      ],
      "text/plain": [
       "                  Open     Shift_1     Shift_2       Lag_2\n",
       "Date                                                      \n",
       "2021-05-17  126.820000         NaN         NaN  123.160004\n",
       "2021-05-18  126.559998  126.820000         NaN  125.230003\n",
       "2021-05-19  123.160004  126.559998  126.820000  127.820000\n",
       "2021-05-20  125.230003  123.160004  126.559998  126.010002\n",
       "2021-05-21  127.820000  125.230003  123.160004  127.820000\n",
       "2021-05-24  126.010002  127.820000  125.230003         NaN\n",
       "2021-05-25  127.820000  126.010002  127.820000         NaN"
      ]
     },
     "execution_count": 174,
     "metadata": {},
     "output_type": "execute_result"
    }
   ],
   "source": [
    "df"
   ]
  },
  {
   "cell_type": "code",
   "execution_count": 175,
   "id": "8c0bfc6c",
   "metadata": {},
   "outputs": [
    {
     "name": "stderr",
     "output_type": "stream",
     "text": [
      "<ipython-input-175-db4fb57e9dd1>:1: FutureWarning: tshift is deprecated and will be removed in a future version. Please use shift instead.\n",
      "  df['TShift'] = df['Open'].tshift(1)\n"
     ]
    }
   ],
   "source": [
    "df['TShift'] = df['Open'].tshift(1)"
   ]
  },
  {
   "cell_type": "code",
   "execution_count": 176,
   "id": "2068fece",
   "metadata": {},
   "outputs": [
    {
     "data": {
      "text/html": [
       "<div>\n",
       "<style scoped>\n",
       "    .dataframe tbody tr th:only-of-type {\n",
       "        vertical-align: middle;\n",
       "    }\n",
       "\n",
       "    .dataframe tbody tr th {\n",
       "        vertical-align: top;\n",
       "    }\n",
       "\n",
       "    .dataframe thead th {\n",
       "        text-align: right;\n",
       "    }\n",
       "</style>\n",
       "<table border=\"1\" class=\"dataframe\">\n",
       "  <thead>\n",
       "    <tr style=\"text-align: right;\">\n",
       "      <th></th>\n",
       "      <th>Open</th>\n",
       "      <th>Shift_1</th>\n",
       "      <th>Shift_2</th>\n",
       "      <th>Lag_2</th>\n",
       "      <th>TShift</th>\n",
       "    </tr>\n",
       "    <tr>\n",
       "      <th>Date</th>\n",
       "      <th></th>\n",
       "      <th></th>\n",
       "      <th></th>\n",
       "      <th></th>\n",
       "      <th></th>\n",
       "    </tr>\n",
       "  </thead>\n",
       "  <tbody>\n",
       "    <tr>\n",
       "      <th>2021-05-17</th>\n",
       "      <td>126.820000</td>\n",
       "      <td>NaN</td>\n",
       "      <td>NaN</td>\n",
       "      <td>123.160004</td>\n",
       "      <td>NaN</td>\n",
       "    </tr>\n",
       "    <tr>\n",
       "      <th>2021-05-18</th>\n",
       "      <td>126.559998</td>\n",
       "      <td>126.820000</td>\n",
       "      <td>NaN</td>\n",
       "      <td>125.230003</td>\n",
       "      <td>126.820000</td>\n",
       "    </tr>\n",
       "    <tr>\n",
       "      <th>2021-05-19</th>\n",
       "      <td>123.160004</td>\n",
       "      <td>126.559998</td>\n",
       "      <td>126.820000</td>\n",
       "      <td>127.820000</td>\n",
       "      <td>126.559998</td>\n",
       "    </tr>\n",
       "    <tr>\n",
       "      <th>2021-05-20</th>\n",
       "      <td>125.230003</td>\n",
       "      <td>123.160004</td>\n",
       "      <td>126.559998</td>\n",
       "      <td>126.010002</td>\n",
       "      <td>123.160004</td>\n",
       "    </tr>\n",
       "    <tr>\n",
       "      <th>2021-05-21</th>\n",
       "      <td>127.820000</td>\n",
       "      <td>125.230003</td>\n",
       "      <td>123.160004</td>\n",
       "      <td>127.820000</td>\n",
       "      <td>125.230003</td>\n",
       "    </tr>\n",
       "    <tr>\n",
       "      <th>2021-05-24</th>\n",
       "      <td>126.010002</td>\n",
       "      <td>127.820000</td>\n",
       "      <td>125.230003</td>\n",
       "      <td>NaN</td>\n",
       "      <td>127.820000</td>\n",
       "    </tr>\n",
       "    <tr>\n",
       "      <th>2021-05-25</th>\n",
       "      <td>127.820000</td>\n",
       "      <td>126.010002</td>\n",
       "      <td>127.820000</td>\n",
       "      <td>NaN</td>\n",
       "      <td>126.010002</td>\n",
       "    </tr>\n",
       "  </tbody>\n",
       "</table>\n",
       "</div>"
      ],
      "text/plain": [
       "                  Open     Shift_1     Shift_2       Lag_2      TShift\n",
       "Date                                                                  \n",
       "2021-05-17  126.820000         NaN         NaN  123.160004         NaN\n",
       "2021-05-18  126.559998  126.820000         NaN  125.230003  126.820000\n",
       "2021-05-19  123.160004  126.559998  126.820000  127.820000  126.559998\n",
       "2021-05-20  125.230003  123.160004  126.559998  126.010002  123.160004\n",
       "2021-05-21  127.820000  125.230003  123.160004  127.820000  125.230003\n",
       "2021-05-24  126.010002  127.820000  125.230003         NaN  127.820000\n",
       "2021-05-25  127.820000  126.010002  127.820000         NaN  126.010002"
      ]
     },
     "execution_count": 176,
     "metadata": {},
     "output_type": "execute_result"
    }
   ],
   "source": [
    "df"
   ]
  },
  {
   "cell_type": "code",
   "execution_count": null,
   "id": "33f5ed37",
   "metadata": {},
   "outputs": [],
   "source": []
  }
 ],
 "metadata": {
  "kernelspec": {
   "display_name": "Python 3",
   "language": "python",
   "name": "python3"
  },
  "language_info": {
   "codemirror_mode": {
    "name": "ipython",
    "version": 3
   },
   "file_extension": ".py",
   "mimetype": "text/x-python",
   "name": "python",
   "nbconvert_exporter": "python",
   "pygments_lexer": "ipython3",
   "version": "3.8.10"
  }
 },
 "nbformat": 4,
 "nbformat_minor": 5
}
